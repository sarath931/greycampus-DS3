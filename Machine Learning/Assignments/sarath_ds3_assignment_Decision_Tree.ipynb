{
 "cells": [
  {
   "cell_type": "code",
   "execution_count": 2,
   "metadata": {},
   "outputs": [],
   "source": [
    "import numpy as np\n",
    "import pandas as pd\n",
    "df=pd.read_csv('IceCreamData.csv')\n",
    "\n",
    "# import pandas and numpy and read IceCreamData in csv format using read_csv"
   ]
  },
  {
   "cell_type": "code",
   "execution_count": 3,
   "metadata": {},
   "outputs": [
    {
     "name": "stdout",
     "output_type": "stream",
     "text": [
      "     Temperature     Revenue\n",
      "0      24.566884  534.799028\n",
      "1      26.005191  625.190122\n",
      "2      27.790554  660.632289\n",
      "3      20.595335  487.706960\n",
      "4      11.503498  316.240194\n",
      "..           ...         ...\n",
      "495    22.274899  524.746364\n",
      "496    32.893092  755.818399\n",
      "497    12.588157  306.090719\n",
      "498    22.362402  566.217304\n",
      "499    28.957736  655.660388\n",
      "\n",
      "[500 rows x 2 columns]\n"
     ]
    }
   ],
   "source": [
    "print(df)\n",
    "# printing df"
   ]
  },
  {
   "cell_type": "code",
   "execution_count": 3,
   "metadata": {},
   "outputs": [
    {
     "name": "stdout",
     "output_type": "stream",
     "text": [
      "<class 'pandas.core.frame.DataFrame'>\n",
      "RangeIndex: 500 entries, 0 to 499\n",
      "Data columns (total 2 columns):\n",
      " #   Column       Non-Null Count  Dtype  \n",
      "---  ------       --------------  -----  \n",
      " 0   Temperature  500 non-null    float64\n",
      " 1   Revenue      500 non-null    float64\n",
      "dtypes: float64(2)\n",
      "memory usage: 7.9 KB\n"
     ]
    }
   ],
   "source": [
    "df.info()\n",
    "# getting information about df which includes data types, total numbuers, column names."
   ]
  },
  {
   "cell_type": "code",
   "execution_count": 4,
   "metadata": {},
   "outputs": [
    {
     "data": {
      "text/plain": [
       "Temperature    0\n",
       "Revenue        0\n",
       "dtype: int64"
      ]
     },
     "execution_count": 4,
     "metadata": {},
     "output_type": "execute_result"
    }
   ],
   "source": [
    "df.isnull().sum()\n",
    "# checking total number of null values present in df"
   ]
  },
  {
   "cell_type": "code",
   "execution_count": 6,
   "metadata": {},
   "outputs": [
    {
     "data": {
      "text/html": [
       "<div>\n",
       "<style scoped>\n",
       "    .dataframe tbody tr th:only-of-type {\n",
       "        vertical-align: middle;\n",
       "    }\n",
       "\n",
       "    .dataframe tbody tr th {\n",
       "        vertical-align: top;\n",
       "    }\n",
       "\n",
       "    .dataframe thead th {\n",
       "        text-align: right;\n",
       "    }\n",
       "</style>\n",
       "<table border=\"1\" class=\"dataframe\">\n",
       "  <thead>\n",
       "    <tr style=\"text-align: right;\">\n",
       "      <th></th>\n",
       "      <th>Temperature</th>\n",
       "      <th>Revenue</th>\n",
       "    </tr>\n",
       "  </thead>\n",
       "  <tbody>\n",
       "    <tr>\n",
       "      <th>count</th>\n",
       "      <td>500.000000</td>\n",
       "      <td>500.000000</td>\n",
       "    </tr>\n",
       "    <tr>\n",
       "      <th>mean</th>\n",
       "      <td>22.232225</td>\n",
       "      <td>521.570777</td>\n",
       "    </tr>\n",
       "    <tr>\n",
       "      <th>std</th>\n",
       "      <td>8.096388</td>\n",
       "      <td>175.404751</td>\n",
       "    </tr>\n",
       "    <tr>\n",
       "      <th>min</th>\n",
       "      <td>0.000000</td>\n",
       "      <td>10.000000</td>\n",
       "    </tr>\n",
       "    <tr>\n",
       "      <th>25%</th>\n",
       "      <td>17.122258</td>\n",
       "      <td>405.558681</td>\n",
       "    </tr>\n",
       "    <tr>\n",
       "      <th>50%</th>\n",
       "      <td>22.392791</td>\n",
       "      <td>529.368565</td>\n",
       "    </tr>\n",
       "    <tr>\n",
       "      <th>75%</th>\n",
       "      <td>27.740674</td>\n",
       "      <td>642.257922</td>\n",
       "    </tr>\n",
       "    <tr>\n",
       "      <th>max</th>\n",
       "      <td>45.000000</td>\n",
       "      <td>1000.000000</td>\n",
       "    </tr>\n",
       "  </tbody>\n",
       "</table>\n",
       "</div>"
      ],
      "text/plain": [
       "       Temperature      Revenue\n",
       "count   500.000000   500.000000\n",
       "mean     22.232225   521.570777\n",
       "std       8.096388   175.404751\n",
       "min       0.000000    10.000000\n",
       "25%      17.122258   405.558681\n",
       "50%      22.392791   529.368565\n",
       "75%      27.740674   642.257922\n",
       "max      45.000000  1000.000000"
      ]
     },
     "execution_count": 6,
     "metadata": {},
     "output_type": "execute_result"
    }
   ],
   "source": [
    "df.describe()\n",
    "# used to get overall matrh picture"
   ]
  },
  {
   "cell_type": "code",
   "execution_count": 7,
   "metadata": {},
   "outputs": [],
   "source": [
    "X=df['Temperature']\n",
    "Y=df['Revenue']\n",
    "# X and Y value is assigned for traning Decison tree model"
   ]
  },
  {
   "cell_type": "code",
   "execution_count": null,
   "metadata": {},
   "outputs": [],
   "source": []
  },
  {
   "cell_type": "code",
   "execution_count": 8,
   "metadata": {},
   "outputs": [],
   "source": [
    "from sklearn.model_selection import train_test_split\n",
    "# importing library for splitting datas ets in to  training data sets and testing datasets "
   ]
  },
  {
   "cell_type": "code",
   "execution_count": 19,
   "metadata": {},
   "outputs": [],
   "source": [
    "X_train,X_test,Y_train,Y_test=train_test_split(X,Y,test_size=0.3,random_state=1)\n",
    "# splitting operation"
   ]
  },
  {
   "cell_type": "code",
   "execution_count": 83,
   "metadata": {},
   "outputs": [
    {
     "data": {
      "text/plain": [
       "DecisionTreeRegressor(max_depth=10)"
      ]
     },
     "execution_count": 83,
     "metadata": {},
     "output_type": "execute_result"
    }
   ],
   "source": [
    "from sklearn.tree import DecisionTreeRegressor\n",
    "DTR=DecisionTreeRegressor(max_depth=10)                                   # decison tree dunction is initialised\n",
    "DTR.fit(X_train.values.reshape(-1,1),Y_train.values.reshape(-1,1))        # decision tree function is being called\n"
   ]
  },
  {
   "cell_type": "code",
   "execution_count": 84,
   "metadata": {},
   "outputs": [
    {
     "name": "stdout",
     "output_type": "stream",
     "text": [
      "Training score is  0.9964121385490251\n",
      "Testing score is  0.9665305501126298\n"
     ]
    }
   ],
   "source": [
    "print(\"Training score is \",DTR.score(X_train.values.reshape(-1,1),Y_train.values.reshape(-1,1)))\n",
    "print(\"Testing score is \",DTR.score(X_test.values.reshape(-1,1),Y_test.values.reshape(-1,1)))\n",
    "# getting training and testing scores ( due to increase in max_depth traming score and testing score increased well)"
   ]
  },
  {
   "cell_type": "code",
   "execution_count": 34,
   "metadata": {},
   "outputs": [],
   "source": [
    "predict= DTR.predict(X_test.values.reshape(-1,1))\n",
    "# predicting the revenue values "
   ]
  },
  {
   "cell_type": "code",
   "execution_count": 35,
   "metadata": {},
   "outputs": [
    {
     "data": {
      "text/plain": [
       "array([697.8059919 , 591.1733898 , 680.0271205 , 310.44606527,\n",
       "       420.9664529 , 542.46275905, 473.47562984, 353.3256334 ,\n",
       "       418.1372788 , 690.7892959 , 427.2113597 , 818.135393  ,\n",
       "       612.1539491 , 471.7015569 , 520.4703098 , 690.7892959 ,\n",
       "       661.4675188 , 402.4553204 , 706.7246037 , 682.7528689 ,\n",
       "       625.01029186, 581.0646368 , 310.44606527, 542.3915902 ,\n",
       "       190.7109408 , 603.2329422 , 828.2960767 , 542.3915902 ,\n",
       "       804.2600255 , 483.4897686 , 749.3671543 , 706.7246037 ,\n",
       "       463.59591319, 625.01029186, 310.44606527, 691.5165411 ,\n",
       "       807.5412872 , 310.44606527, 891.4136462 , 643.0909437 ,\n",
       "       581.0646368 , 606.78150895, 614.3035827 , 555.245217  ,\n",
       "       666.1368355 , 969.2916296 , 401.35507627, 477.8417185 ,\n",
       "       413.9140669 , 334.4337199 , 607.8391938 , 396.9356482 ,\n",
       "       351.2888691 , 478.5985086 , 463.59591319, 750.4447328 ,\n",
       "       690.7892959 , 158.8498064 , 969.2916296 , 447.02952323,\n",
       "       607.5421478 , 376.5544719 , 427.2113597 , 566.68459404,\n",
       "       310.44606527, 550.2785159 , 850.2469822 , 274.6789209 ,\n",
       "       537.7661123 , 612.1539491 , 542.3915902 , 351.2888691 ,\n",
       "       463.59591319, 807.5412872 , 402.4553204 , 310.44606527,\n",
       "       550.2785159 , 473.47562984, 447.02952323, 542.3915902 ,\n",
       "       504.25146647, 648.487376  , 282.46952467, 541.2936627 ,\n",
       "       344.6887652 , 614.3035827 , 969.2916296 , 614.3035827 ,\n",
       "       798.0597179 , 384.6994155 , 652.92512287, 531.97656818,\n",
       "       661.4675188 , 289.5409341 , 415.8176744 , 131.6570175 ,\n",
       "       495.97343657, 542.3915902 , 447.02952323, 606.78150895,\n",
       "       773.9247547 , 441.5087331 , 418.1372788 , 278.872638  ,\n",
       "       451.4507843 , 666.1368355 , 935.7172907 , 530.7482251 ,\n",
       "       258.2868099 , 773.9247547 , 643.0909437 , 272.8570213 ,\n",
       "       828.2960767 , 401.9247923 , 496.0119175 , 222.8723171 ,\n",
       "       415.8176744 , 629.8937918 , 542.3915902 , 415.8176744 ,\n",
       "       493.1154676 , 246.7871609 , 645.97938095, 608.6299921 ,\n",
       "       463.59591319, 401.4330183 , 685.6546554 , 463.59591319,\n",
       "       382.0739541 , 495.97343657, 870.7659159 , 241.2785475 ,\n",
       "       374.9557024 , 322.9839774 , 463.59591319, 216.183462  ,\n",
       "       545.9039291 , 798.0597179 , 648.487376  , 483.4897686 ,\n",
       "       278.872638  , 584.399945  , 463.59591319, 633.5040087 ,\n",
       "       158.8498064 , 648.487376  , 733.215828  , 222.8723171 ,\n",
       "       625.8046425 , 394.1686196 ])"
      ]
     },
     "execution_count": 35,
     "metadata": {},
     "output_type": "execute_result"
    }
   ],
   "source": [
    "predict \n",
    "# revenue value is predicted"
   ]
  },
  {
   "cell_type": "code",
   "execution_count": 40,
   "metadata": {},
   "outputs": [
    {
     "data": {
      "text/html": [
       "<div>\n",
       "<style scoped>\n",
       "    .dataframe tbody tr th:only-of-type {\n",
       "        vertical-align: middle;\n",
       "    }\n",
       "\n",
       "    .dataframe tbody tr th {\n",
       "        vertical-align: top;\n",
       "    }\n",
       "\n",
       "    .dataframe thead th {\n",
       "        text-align: right;\n",
       "    }\n",
       "</style>\n",
       "<table border=\"1\" class=\"dataframe\">\n",
       "  <thead>\n",
       "    <tr style=\"text-align: right;\">\n",
       "      <th></th>\n",
       "      <th>Real Values</th>\n",
       "      <th>Predicted Values</th>\n",
       "    </tr>\n",
       "  </thead>\n",
       "  <tbody>\n",
       "    <tr>\n",
       "      <th>304</th>\n",
       "      <td>714.560056</td>\n",
       "      <td>697.805992</td>\n",
       "    </tr>\n",
       "    <tr>\n",
       "      <th>340</th>\n",
       "      <td>579.307388</td>\n",
       "      <td>591.173390</td>\n",
       "    </tr>\n",
       "    <tr>\n",
       "      <th>47</th>\n",
       "      <td>651.861536</td>\n",
       "      <td>680.027121</td>\n",
       "    </tr>\n",
       "    <tr>\n",
       "      <th>67</th>\n",
       "      <td>284.772789</td>\n",
       "      <td>310.446065</td>\n",
       "    </tr>\n",
       "    <tr>\n",
       "      <th>479</th>\n",
       "      <td>432.819795</td>\n",
       "      <td>420.966453</td>\n",
       "    </tr>\n",
       "    <tr>\n",
       "      <th>...</th>\n",
       "      <td>...</td>\n",
       "      <td>...</td>\n",
       "    </tr>\n",
       "    <tr>\n",
       "      <th>331</th>\n",
       "      <td>678.751388</td>\n",
       "      <td>648.487376</td>\n",
       "    </tr>\n",
       "    <tr>\n",
       "      <th>197</th>\n",
       "      <td>715.124695</td>\n",
       "      <td>733.215828</td>\n",
       "    </tr>\n",
       "    <tr>\n",
       "      <th>95</th>\n",
       "      <td>212.591740</td>\n",
       "      <td>222.872317</td>\n",
       "    </tr>\n",
       "    <tr>\n",
       "      <th>122</th>\n",
       "      <td>655.433979</td>\n",
       "      <td>625.804642</td>\n",
       "    </tr>\n",
       "    <tr>\n",
       "      <th>23</th>\n",
       "      <td>374.231135</td>\n",
       "      <td>394.168620</td>\n",
       "    </tr>\n",
       "  </tbody>\n",
       "</table>\n",
       "<p>150 rows × 2 columns</p>\n",
       "</div>"
      ],
      "text/plain": [
       "     Real Values  Predicted Values\n",
       "304   714.560056        697.805992\n",
       "340   579.307388        591.173390\n",
       "47    651.861536        680.027121\n",
       "67    284.772789        310.446065\n",
       "479   432.819795        420.966453\n",
       "..           ...               ...\n",
       "331   678.751388        648.487376\n",
       "197   715.124695        733.215828\n",
       "95    212.591740        222.872317\n",
       "122   655.433979        625.804642\n",
       "23    374.231135        394.168620\n",
       "\n",
       "[150 rows x 2 columns]"
      ]
     },
     "execution_count": 40,
     "metadata": {},
     "output_type": "execute_result"
    }
   ],
   "source": [
    "data = pd.DataFrame({'Real Values':Y_test, 'Predicted Values':predict})\n",
    "data\n",
    "# real and predicted values are being saved"
   ]
  },
  {
   "cell_type": "code",
   "execution_count": 71,
   "metadata": {},
   "outputs": [
    {
     "data": {
      "text/plain": [
       "<matplotlib.legend.Legend at 0x1ec55e2b0a0>"
      ]
     },
     "execution_count": 71,
     "metadata": {},
     "output_type": "execute_result"
    },
    {
     "data": {
      "image/png": "[encoded data removed]",
      "text/plain": [
       "<Figure size 432x288 with 1 Axes>"
      ]
     },
     "metadata": {
      "needs_background": "light"
     },
     "output_type": "display_data"
    }
   ],
   "source": [
    " # plotting graphs\n",
    "import matplotlib.pyplot as plt\n",
    "plt.plot(X_test,Y_test, label='Training') \n",
    "plt.plot(X_test,predict, label='Testing')  \n",
    "plt.xlabel('Temperature')\n",
    "plt.ylabel('Revenuw')\n",
    "plt.title(\"Trained \")\n",
    "plt.legend()\n",
    "\n",
    "# graphs containing testing and traning values of revenue wrt temperature is plotted"
   ]
  },
  {
   "cell_type": "code",
   "execution_count": null,
   "metadata": {},
   "outputs": [],
   "source": [
    " # Inference- As per model the testing score is 96.6 against the traning score of 99.6 which means the model is learned well \n",
    "  #  and is performing good.\n",
    "# so there is no much deviation between what the model learned in traning and the model predicted in testing. "
   ]
  },
  {
   "cell_type": "code",
   "execution_count": null,
   "metadata": {},
   "outputs": [],
   "source": []
  },
  {
   "cell_type": "code",
   "execution_count": null,
   "metadata": {},
   "outputs": [],
   "source": []
  },
  {
   "cell_type": "code",
   "execution_count": null,
   "metadata": {},
   "outputs": [],
   "source": []
  }
 ],
 "metadata": {
  "kernelspec": {
   "display_name": "Python 3",
   "language": "python",
   "name": "python3"
  },
  "language_info": {
   "codemirror_mode": {
    "name": "ipython",
    "version": 3
   },
   "file_extension": ".py",
   "mimetype": "text/x-python",
   "name": "python",
   "nbconvert_exporter": "python",
   "pygments_lexer": "ipython3",
   "version": "3.8.3"
  }
 },
 "nbformat": 4,
 "nbformat_minor": 4
}
