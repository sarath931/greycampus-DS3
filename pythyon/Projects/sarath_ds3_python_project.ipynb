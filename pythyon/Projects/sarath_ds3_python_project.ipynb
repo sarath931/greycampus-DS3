{
 "cells": [
  {
   "cell_type": "code",
   "execution_count": 19,
   "metadata": {},
   "outputs": [
    {
     "name": "stdout",
     "output_type": "stream",
     "text": [
      "Enter a number: 100\n",
      "100 is not a prime number\n",
      "2 times 50 is 100\n"
     ]
    }
   ],
   "source": [
    "# program to check whether number is prime or not\n",
    "\n",
    "\n",
    "def prime(num):                                     # function definition\n",
    "    num = int(input(\"Enter a number: \"))            # taking input of which number to find\n",
    "    if num > 1:\n",
    "        for i in range(2,num):                      \n",
    "            if (num % i) == 0:                       # checking remainder =0 if 0,not prime  and if condition\n",
    "                print(num,\"is not a prime number\")\n",
    "                print(i,\"times\",num//i,\"is\",num)\n",
    "                break\n",
    "                \n",
    "        else:                                        # else condition\n",
    "            print(num,\"is a prime number\")\n",
    "\n",
    "            # if input number is less than\n",
    "            # or equal to 1, it is not prime\n",
    "    else:\n",
    "        print(num,\"is not a prime number\")\n",
    "prime(num)                                          #function calling which invoes checking prime function                "
   ]
  },
  {
   "cell_type": "code",
   "execution_count": null,
   "metadata": {},
   "outputs": [],
   "source": []
  },
  {
   "cell_type": "code",
   "execution_count": null,
   "metadata": {},
   "outputs": [],
   "source": []
  },
  {
   "cell_type": "code",
   "execution_count": null,
   "metadata": {},
   "outputs": [],
   "source": []
  }
 ],
 "metadata": {
  "kernelspec": {
   "display_name": "Python 3",
   "language": "python",
   "name": "python3"
  },
  "language_info": {
   "codemirror_mode": {
    "name": "ipython",
    "version": 3
   },
   "file_extension": ".py",
   "mimetype": "text/x-python",
   "name": "python",
   "nbconvert_exporter": "python",
   "pygments_lexer": "ipython3",
   "version": "3.8.3"
  }
 },
 "nbformat": 4,
 "nbformat_minor": 4
}
